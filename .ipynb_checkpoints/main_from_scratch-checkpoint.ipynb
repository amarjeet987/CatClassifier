{
 "cells": [
  {
   "cell_type": "code",
   "execution_count": 2,
   "metadata": {},
   "outputs": [],
   "source": [
    "import numpy as np\n",
    "import matplotlib as plt\n",
    "import h5py"
   ]
  },
  {
   "cell_type": "code",
   "execution_count": 3,
   "metadata": {},
   "outputs": [],
   "source": [
    "train_set_initial = h5py.File(\"datasets/train_catvnoncat.h5\")\n",
    "test_set_initial = h5py.File(\"datasets/test_catvnoncat.h5\")"
   ]
  },
  {
   "cell_type": "code",
   "execution_count": 12,
   "metadata": {},
   "outputs": [],
   "source": [
    "train_set_initial_X = np.array(train_set_initial['train_set_x'])\n",
    "test_set_initial_X = np.array(test_set_initial['test_set_x'])\n",
    "train_set_initial_Y = np.array(train_set_initial['train_set_y'])\n",
    "test_set_initial_Y = np.array(test_set_initial['test_set_y'])"
   ]
  },
  {
   "cell_type": "code",
   "execution_count": 27,
   "metadata": {},
   "outputs": [],
   "source": [
    "train_set_X = train_set_initial_X.reshape(train_set_initial_X.shape[0], -1).T\n",
    "#shape is (64*64*3, 209)\n",
    "\n",
    "test_set_X = test_set_initial_X.reshape(test_set_initial_X.shape[0], -1).T\n",
    "#shape is (64*64*3, 50)\n"
   ]
  },
  {
   "cell_type": "code",
   "execution_count": 37,
   "metadata": {},
   "outputs": [],
   "source": [
    "train_set_Y = train_set_initial_Y.reshape(1, train_set_initial_Y.shape[0])\n",
    "#shape is (1, 209)\n",
    "\n",
    "test_set_Y = test_set_initial_Y.reshape(1, test_set_initial_Y.shape[0])\n",
    "#shape is (1, 50)\n",
    "\n",
    "#So we have 209 training examples and 50 test examples"
   ]
  },
  {
   "cell_type": "code",
   "execution_count": 39,
   "metadata": {},
   "outputs": [],
   "source": [
    "train_set_X = train_set_X/255\n",
    "train_set_Y = train_set_Y/255"
   ]
  },
  {
   "cell_type": "code",
   "execution_count": 45,
   "metadata": {},
   "outputs": [],
   "source": [
    "def initialize_with_zeros(dimension):\n",
    "    w = np.zeros(shape=(dimension, 1))\n",
    "    b = 0\n",
    "    return w, b"
   ]
  },
  {
   "cell_type": "code",
   "execution_count": 48,
   "metadata": {},
   "outputs": [],
   "source": [
    "def sigmoid(x):\n",
    "    return (1/(1 + np.exp(-x)))"
   ]
  },
  {
   "cell_type": "code",
   "execution_count": null,
   "metadata": {},
   "outputs": [],
   "source": [
    "def propagate(w, b, X, Y_real):\n",
    "    \n",
    "    #Forward Propagation\n",
    "    Y_predict = sigmoid(np.dot(w.T, train_X) + b)\n",
    "    cost = (-1/m)*np.sum(Y_real * np.log(Y_predict) + (1 - Y_real) * np.log(1 - Y_predict))\n",
    "    \n",
    "    #Backward Propagation\n",
    "    dw = (1 / m) * np.dot((Y_predict - Y_real).T, X)\n",
    "    db = (1 / m) * (Y_predict - Y_real)\n",
    "    \n",
    "    grads = {\n",
    "        \"dw\" : dw,\n",
    "        \"db\" : db\n",
    "    }\n",
    "    \n",
    "    return grads, cost"
   ]
  },
  {
   "cell_type": "code",
   "execution_count": null,
   "metadata": {},
   "outputs": [],
   "source": [
    "def optimize(w, b, train_X, train_Y, num_iterations, learning_rate):\n",
    "    costs = []\n",
    "    for i in range(num_iterations):\n",
    "        grads, cost = propogate(w, b, train_X, train_Y)\n",
    "        \n",
    "        dw = grads[\"dw\"]\n",
    "        db = grads[\"db\"]\n",
    "        \n",
    "        w = w - learning_rate*dw\n",
    "        b = b - learning_rate*db\n",
    "        \n",
    "        "
   ]
  },
  {
   "cell_type": "code",
   "execution_count": null,
   "metadata": {},
   "outputs": [],
   "source": [
    "def model(train_X, train_Y, test_X, test_Y, learning_rate, no_of_iterations):\n",
    "    w, b = initialize_with_zeros(train_X.shape[0])\n",
    "    w, b = optimize(w, b, train_X, train_Y, num_iterations, learning_rate)"
   ]
  },
  {
   "cell_type": "code",
   "execution_count": null,
   "metadata": {},
   "outputs": [],
   "source": []
  }
 ],
 "metadata": {
  "kernelspec": {
   "display_name": "Python 3",
   "language": "python",
   "name": "python3"
  },
  "language_info": {
   "codemirror_mode": {
    "name": "ipython",
    "version": 3
   },
   "file_extension": ".py",
   "mimetype": "text/x-python",
   "name": "python",
   "nbconvert_exporter": "python",
   "pygments_lexer": "ipython3",
   "version": "3.6.2"
  }
 },
 "nbformat": 4,
 "nbformat_minor": 2
}
